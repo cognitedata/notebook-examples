{
 "cells": [
  {
   "cell_type": "markdown",
   "metadata": {},
   "source": [
    "# Introduction\n",
    "\n",
    "See also the [documentation](https://github.com/cognitedata/cdp-spark-datasource#reading-and-writing-cognite-data-platform-resource-types) for examples for each resource type. The general pattern is:\n",
    "\n",
    "```scala\n",
    "my_data_frame = spark.read.format(\"cognite.spark.v1\") \\\n",
    "  .option(\"type\", \"some-resource-type\") \\\n",
    "  .option(\"apiKey\", dbutils.secrets.get(\"your-scope\", \"api-key-for-project\"))\n",
    "```\n",
    "\n",
    "The resource types are:\n",
    "- `assets`\n",
    "- `events`\n",
    "- `timeseries` time series metadata\n",
    "- `datapoints` data points for a time series, also supports aggregates\n",
    "- `raw` \"RAW\" tables, which also require `.option(\"database\", \"some-database\")` and `.option(\"table\", \"some-table\")`\n",
    "\n",
    "Let's start by reading some data from the `publicdata` project. If you don't have an API key, go get one from the [Open Industrial Data project](https://openindustrialdata.com/).\n",
    "\n",
    "We'll assume that you have set up a [secret scope](https://docs.databricks.com/user-guide/secrets/index.html) in Databricks with a key `api-key-publicdata` containing your API key for Open Industrial Data."
   ]
  },
  {
   "cell_type": "code",
   "execution_count": null,
   "metadata": {},
   "outputs": [],
   "source": [
    "secret_scope = \"\" # name your secret scope here\n",
    "project_key = \"\" # name the key to use from secret scope here"
   ]
  },
  {
   "cell_type": "code",
   "execution_count": null,
   "metadata": {},
   "outputs": [],
   "source": [
    "assets = spark.read.format(\"cognite.spark.v1\") \\\n",
    "    .option(\"type\", \"assets\") \\\n",
    "    .option(\"apiKey\", dbutils.secrets.get(secret_scope, project_key)) \\\n",
    "    .load()"
   ]
  },
  {
   "cell_type": "markdown",
   "metadata": {},
   "source": [
    "# DataFrames\n",
    "\n",
    "We get back a [Spark DataFrame](https://spark.apache.org/docs/latest/sql-programming-guide.html) from `spark.read.format...load()`, which \"is conceptually equivalent to a table in a relational database or a data frame in R/Python\".\n",
    "\n",
    "`spark` is your entry point to the Spark API, and it's a `SparkSession` with a connection to the cluster. You will mostly use it to read data frames, and then interact with the data frames.\n",
    "\n",
    "You may have noticed that the command finished almost immediately. The data frame is a lazy data structure, and doesn't actually load any data until it has to. You can view the schema (the column names and their types) by clicking the small arrow next to the output. The schema is constant for assets, so we didn't need to read any data to produce that schema.\n",
    "\n",
    "Data is loaded only when you perform an *action* on a data frame, which requires data to be present. Examples of actions include `.count()` (for counting the rows), `.show()` (for printing the first few rows), `.toPandas()` (for converting to a Pandas data frame, downloading all data to your Python process), and pretty much anything else that uses data."
   ]
  },
  {
   "cell_type": "code",
   "execution_count": null,
   "metadata": {},
   "outputs": [],
   "source": [
    "print(assets.count())\n",
    "assets.show()\n",
    "assets.toPandas()"
   ]
  },
  {
   "cell_type": "markdown",
   "metadata": {},
   "source": [
    "DataFrames can be distributed with many partitions being placed on different nodes in our Spark cluster."
   ]
  },
  {
   "cell_type": "code",
   "execution_count": null,
   "metadata": {},
   "outputs": [],
   "source": [
    "assets.rdd.getNumPartitions()"
   ]
  },
  {
   "cell_type": "markdown",
   "metadata": {},
   "source": [
    "We can drop and rename columns, getting a DataFrame with a new schema."
   ]
  },
  {
   "cell_type": "code",
   "execution_count": null,
   "metadata": {},
   "outputs": [],
   "source": [
    "assets.drop(\"metadata\") \\\n",
    "  .drop(\"externalId\") \\\n",
    "  .drop(\"source\") \\\n",
    "  .withColumnRenamed(\"description\", \"descr\") \\\n",
    "  .withColumnRenamed(\"lastUpdatedTime\", \"updatedAt\") \\\n",
    "  .printSchema()"
   ]
  },
  {
   "cell_type": "markdown",
   "metadata": {},
   "source": [
    "Notebooks have autocompletion built in and you can view keyboard shortcuts by clicking the keyboard icon at the top bar."
   ]
  },
  {
   "cell_type": "markdown",
   "metadata": {},
   "source": [
    "# Displaying data\n",
    "\n",
    "In Databricks there's a convenient `display()` method you can use to show data in data frames (and a few other formats, like pandas and matplotlib figures). Since showing the data requires it to be loaded, this will also trigger an action.\n",
    "By default, only the first 1000 rows are displayed in the widget, even if Spark needs to load more data than this in the background.\n",
    "\n",
    "Note that you might need to scoll within the widget to show all the results.\n",
    "\n",
    "You can sort the rows shown by different columns, and you can expand the \"string to string\" map in the metadata column by clicking the arrow."
   ]
  },
  {
   "cell_type": "code",
   "execution_count": null,
   "metadata": {},
   "outputs": [],
   "source": [
    "display(assets)"
   ]
  },
  {
   "cell_type": "code",
   "execution_count": null,
   "metadata": {},
   "outputs": [],
   "source": [
    "# we will explain groupBy() and count() in the section on aggregations\n",
    "display(assets.groupBy(assets.parentId).count())"
   ]
  },
  {
   "cell_type": "markdown",
   "metadata": {},
   "source": [
    "# Caching data\n",
    "\n",
    "As we mentioned before, the data frame is a lazy structure that loads data when it is needed. Loading data over and over again can be slow and wasteful when we don't absolutely need it to be completely up-to-date.\n",
    "In that case, we can created a cached data frame by adding `.cache()` at the end."
   ]
  },
  {
   "cell_type": "code",
   "execution_count": null,
   "metadata": {},
   "outputs": [],
   "source": [
    "events = spark.read.format(\"cognite.spark.v1\") \\\n",
    "    .option(\"type\", \"assets\") \\\n",
    "    .option(\"apiKey\", dbutils.secrets.get(secret_scope, project_key)) \\\n",
    "    .load() \\\n",
    "    .cache()"
   ]
  },
  {
   "cell_type": "code",
   "execution_count": null,
   "metadata": {},
   "outputs": [],
   "source": [
    "events.printSchema()"
   ]
  },
  {
   "cell_type": "code",
   "execution_count": null,
   "metadata": {},
   "outputs": [],
   "source": [
    "print(events.count())\n",
    "events.show()\n",
    "events.toPandas()"
   ]
  },
  {
   "cell_type": "markdown",
   "metadata": {},
   "source": [
    "If we run the same commands again they should finish more quickly (potentially much more quickly if there's a lot of data)."
   ]
  },
  {
   "cell_type": "code",
   "execution_count": null,
   "metadata": {},
   "outputs": [],
   "source": [
    "print(events.count())\n",
    "events.show()\n",
    "events.toPandas()"
   ]
  },
  {
   "cell_type": "markdown",
   "metadata": {},
   "source": [
    "All asset data is now kept in memory by Spark, if possible, and reloads will happen only if a node crashes. Even then, only the data that was kept on that node will be reloaded, if possible.\n",
    "\n",
    "Caching is a good idea if you have a large amount of data that will not be changed.\n",
    "\n",
    "However, if you cache events as above, your cached copy will not receive new events.\n",
    "This might seem obvious, but it means that if you're doing something like waiting for new events that you\n",
    "have just created to show up, you should *not* cache the DataFrame you're using to check for new events!"
   ]
  },
  {
   "cell_type": "markdown",
   "metadata": {},
   "source": [
    "# Time series metadata\n",
    "\n",
    "Let's read the time series metadata into another cached data frame."
   ]
  },
  {
   "cell_type": "code",
   "execution_count": null,
   "metadata": {},
   "outputs": [],
   "source": [
    "tsmd = spark.read.format(\"cognite.spark.v1\") \\\n",
    "    .option(\"type\", \"timeseries\") \\\n",
    "    .option(\"apiKey\", dbutils.secrets.get(secret_scope, project_key)) \\\n",
    "    .load() \\\n",
    "    .cache()"
   ]
  },
  {
   "cell_type": "code",
   "execution_count": null,
   "metadata": {},
   "outputs": [],
   "source": [
    "tsmd.printSchema()"
   ]
  },
  {
   "cell_type": "code",
   "execution_count": null,
   "metadata": {},
   "outputs": [],
   "source": [
    "tsmd.count()"
   ]
  },
  {
   "cell_type": "code",
   "execution_count": null,
   "metadata": {},
   "outputs": [],
   "source": [
    "display(tsmd)"
   ]
  },
  {
   "cell_type": "markdown",
   "metadata": {},
   "source": [
    "# Aggregations\n",
    "\n",
    "We can do things like group by and count using PySpark. For example, how many time series do we have per asset?\n",
    "One way to find out is to put time series metadata into different groups based on their asset id, and then count\n",
    "the number of items in each group, and then order the counts in a descending order."
   ]
  },
  {
   "cell_type": "code",
   "execution_count": null,
   "metadata": {},
   "outputs": [],
   "source": [
    "display(tsmd.groupBy(\"assetId\").count().orderBy(\"count\", ascending=False))"
   ]
  },
  {
   "cell_type": "markdown",
   "metadata": {},
   "source": [
    "How many different asset descriptions do we have, and how many assets per description?"
   ]
  },
  {
   "cell_type": "code",
   "execution_count": null,
   "metadata": {},
   "outputs": [],
   "source": [
    "display(assets.groupBy(\"description\").count().orderBy(\"count\", ascending=False))"
   ]
  },
  {
   "cell_type": "markdown",
   "metadata": {},
   "source": [
    "Spark has support for many different [types of aggregations](http://spark.apache.org/docs/latest/api/python/pyspark.sql.html#pyspark.sql.GroupedData), such as `min`, `max`, `mean`, `sum`, etc.\n",
    "\n",
    "We can make a plot of the number of time series associated per asset, to get an overall view of how many time series assets have in general.\n",
    "\n",
    "Since we have several \"counts\" in this query, we'll use `.withColumn` to rename the first one.\n",
    "We'll say more about `F` in a little bit, but for now we only need to know that `F.col(\"count\")` let's us refer to\n",
    "the column with the name \"count\"."
   ]
  },
  {
   "cell_type": "code",
   "execution_count": null,
   "metadata": {},
   "outputs": [],
   "source": [
    "import pyspark.sql.functions as F\n",
    "\n",
    "display(tsmd.groupBy(\"assetId\").count() \\\n",
    "        # We will do two \"count\" calls here, so we need to remember the counts per asset,\n",
    "        # by renaming the column named \"count\" at this point to \"countsPerAsset\"\n",
    "        .withColumn(\"countsPerAsset\", F.col(\"count\")) \\\n",
    "        .groupBy(\"countsPerAsset\") \\\n",
    "        # Now we count the number of assets with 1, 2, etc. time series connected to them.\n",
    "        .count() \\\n",
    "        # In order to avoid a random order in our bar chart we can sort by \"countsPerAsset\"\n",
    "        .orderBy(\"countsPerAsset\"))"
   ]
  },
  {
   "cell_type": "markdown",
   "metadata": {},
   "source": [
    "If we just want to know the average number of time series per asset, we can use `agg` and the `avg` function directly."
   ]
  },
  {
   "cell_type": "code",
   "execution_count": null,
   "metadata": {},
   "outputs": [],
   "source": [
    "display(tsmd.groupBy(\"assetId\").count().agg(F.avg(F.col(\"count\"))))"
   ]
  },
  {
   "cell_type": "markdown",
   "metadata": {},
   "source": [
    "We will see more of `F` from here on, the `pyspark.sql.functions` package.\n",
    "Importing it as `F` allows us to use autocompletion to find functions in that package, and avoids\n",
    "ambiguities for functions like `min`, but it is also common to see individual methods imported like this:"
   ]
  },
  {
   "cell_type": "code",
   "execution_count": null,
   "metadata": {},
   "outputs": [],
   "source": [
    "from pyspark.sql.functions import avg"
   ]
  },
  {
   "cell_type": "markdown",
   "metadata": {},
   "source": [
    "Since autocompletion is very useful, we recommend the `F` style."
   ]
  },
  {
   "cell_type": "markdown",
   "metadata": {},
   "source": [
    "# Filtering\n",
    "\n",
    "We can use `.filter` or `.where` (same method by different names) to select a subset of data. `select` can be used to pick out specific columns, or even parts of columns like `metadata.SOURCE_TABLE`."
   ]
  },
  {
   "cell_type": "code",
   "execution_count": null,
   "metadata": {},
   "outputs": [],
   "source": [
    "display(assets.where(assets.description == \"VRD - 1ST STAGE COMPRESSOR LUBE OIL HEATER\") \\\n",
    "       .select(\"name\", \"description\", \"metadata.SOURCE_TABLE\"))"
   ]
  },
  {
   "cell_type": "markdown",
   "metadata": {},
   "source": [
    "Root nodes are defined as having no parent, so their `.parentId` should be null."
   ]
  },
  {
   "cell_type": "code",
   "execution_count": null,
   "metadata": {},
   "outputs": [],
   "source": [
    "display(assets.where(assets.parentId.isNull()))"
   ]
  },
  {
   "cell_type": "markdown",
   "metadata": {},
   "source": [
    "Similarly, we can look for uncontextualized time series metadata, which have a null `assetId`."
   ]
  },
  {
   "cell_type": "code",
   "execution_count": null,
   "metadata": {},
   "outputs": [],
   "source": [
    "display(tsmd.where(tsmd.assetId.isNull()))"
   ]
  },
  {
   "cell_type": "markdown",
   "metadata": {},
   "source": [
    "As expected, all time series in `publicdata` are contextualized. We can negate a filter expression using `~`\n",
    "to instead filter for time series that have been contextualized.\n",
    "\n",
    "In the case of filtering based on non-`NULL` values we can also use `.isNotNull()`."
   ]
  },
  {
   "cell_type": "code",
   "execution_count": null,
   "metadata": {},
   "outputs": [],
   "source": [
    "print(tsmd.where(~tsmd.assetId.isNull()).count())\n",
    "print(tsmd.where(tsmd.assetId.isNotNull()).count())"
   ]
  },
  {
   "cell_type": "markdown",
   "metadata": {},
   "source": [
    "# Column objects\n",
    "\n",
    "`assets.description` and `assets.parentId` return [Column](https://spark.apache.org/docs/2.4.0/api/python/pyspark.sql.html#pyspark.sql.Column) objects.\n",
    "\n",
    "Column objects have a wide range of useful methods, and we will see many examples from here on out.\n",
    "We can also construct them from our DataFrame using string indexing, like `assets[\"description\"]`,\n",
    "which is necessary if the column name contains characters that are not valid Python identifiers.\n",
    "\n",
    "For example, we can say `assets[\"VALUE (%C)\"]`. We can also use `F.col(\"VALUE (%C)\")` to create a Column directly.\n",
    "However, if we do `F.col(\"name\")` and there are several DataFrames involved that have a `name` column, we'd be in trouble\n",
    "since we didn't specify which `name` column we meant, while `assets.name` would have been unambiguous.\n",
    "\n",
    "We'll see more of that when looking at joins.\n",
    "\n",
    "For those reasons, we recommend indexing the DataFrame (using `.name` when possible) to create Column objects, even if it can become a bit tedious to spell out the DataFrame name.\n",
    "\n",
    "However, in the previous section we use `F.col(\"count\")` because we didn't have a DataFrame object with a column\n",
    "named count. Our \"count\" column only existed on an intermediate DataFrame. We could have stored that DataFrame and\n",
    "given it a name, and then we could have used `df.count`, but sometimes it just makes sense to not bother naming each\n",
    "intermediate DataFrame."
   ]
  },
  {
   "cell_type": "markdown",
   "metadata": {},
   "source": [
    "# Joins\n",
    "\n",
    "We can join data from different data frames together to answer questions like, what are the time series for asset ids `4050790831683279` and `3195126756929465`?"
   ]
  },
  {
   "cell_type": "code",
   "execution_count": null,
   "metadata": {},
   "outputs": [],
   "source": [
    "display(assets.where(assets.id.isin([4050790831683279, 3195126756929465])) \\\n",
    "        .join(tsmd, tsmd.assetId == assets.id) \\\n",
    "        .select(assets.name, assets.description, tsmd.description, tsmd.name))"
   ]
  },
  {
   "cell_type": "markdown",
   "metadata": {},
   "source": [
    "When doing joins we often have the same column name in both tables, which can cause confusing results. As you can see, we ended up with two `description` columns and two `name` columns.\n",
    "\n",
    "`.alias` can be used to rename columns and help us keep track of which description belongs to the asset and which one belongs to the time series."
   ]
  },
  {
   "cell_type": "code",
   "execution_count": null,
   "metadata": {},
   "outputs": [],
   "source": [
    "display(assets.where(assets.id.isin([4050790831683279, 3195126756929465]))\n",
    "        .join(tsmd, tsmd.assetId == assets.id)\n",
    "        .select(assets.name, assets.description, tsmd.description.alias(\"tsDescription\"), tsmd.name.alias(\"tsName\")))"
   ]
  },
  {
   "cell_type": "markdown",
   "metadata": {},
   "source": [
    "# Data points\n",
    "\n",
    "We can retrieve the data for a time series by using the `datapoints` resource type. This one is a bit special, because it will return no data unless you have specified the name(s) of the time series you want to get data for.\n",
    "\n",
    "As a consequence, you should *not* cache data frames using the `datapoints` resource type, otherwise the data frame will cache an empty result (and remain empty!) if you don't specify a time series name when querying it."
   ]
  },
  {
   "cell_type": "code",
   "execution_count": null,
   "metadata": {},
   "outputs": [],
   "source": [
    "dp = spark.read.format(\"cognite.spark.v1\") \\\n",
    "    .option(\"type\", \"datapoints\") \\\n",
    "    .option(\"apiKey\", dbutils.secrets.get(secret_scope, project_key)) \\\n",
    "    .load()"
   ]
  },
  {
   "cell_type": "code",
   "execution_count": null,
   "metadata": {},
   "outputs": [],
   "source": [
    "display(dp.where(dp.externalId == \"pi:160184\") \\\n",
    "        .where(dp.timestamp > F.lit(\"2017-10-01\")) \\\n",
    "        .where(dp.timestamp < F.lit(\"2017-10-31\")))"
   ]
  },
  {
   "cell_type": "markdown",
   "metadata": {},
   "source": [
    "If we don't specify an upper bound, [getLatest](https://doc.cognitedata.com/api/0.5/#operation/getLatest) will be\n",
    "used to retrieve the maximum timestamp available.\n",
    "\n",
    "Similarly, if there is no lower bound the Spark data source will make a query to the time series API to find the timestamp\n",
    "of the first available data point."
   ]
  },
  {
   "cell_type": "markdown",
   "metadata": {},
   "source": [
    "Raw data points are downloaded by default, but the data points DataFrame also has full support for aggregates."
   ]
  },
  {
   "cell_type": "code",
   "execution_count": null,
   "metadata": {},
   "outputs": [],
   "source": [
    "display(dp.where(dp.externalId == \"pi:160184\") \\\n",
    "        .where(dp.granularity == \"7d\") \\\n",
    "        .where(dp.aggregation.isin([\"min\", \"average\", \"max\"]))\n",
    "        .where(dp.timestamp > F.lit(\"2017-10-01\")) \\\n",
    "        .where(dp.timestamp < F.lit(\"2017-10-31\")))"
   ]
  },
  {
   "cell_type": "markdown",
   "metadata": {},
   "source": [
    "# Plotting data\n",
    "\n",
    "The `display()` widget has a number of options for showing data in different ways, including a line plot that can group results by a column.\n",
    "\n",
    "Using this we can easily create a plot showing the minimum, average, and maximum values for a time series."
   ]
  },
  {
   "cell_type": "code",
   "execution_count": null,
   "metadata": {},
   "outputs": [],
   "source": [
    "display(dp.where(dp.externalId == \"pi:160184\") \\\n",
    "        .where(dp.granularity == \"1d\") \\\n",
    "        .where(dp.aggregation.isin([\"min\", \"average\", \"max\"]))\n",
    "        .where(dp.timestamp > F.lit(\"2017-10-01\")) \\\n",
    "        .where(dp.timestamp < F.lit(\"2017-10-31\")))"
   ]
  },
  {
   "cell_type": "markdown",
   "metadata": {},
   "source": [
    "# Joins with data points\n",
    "\n",
    "Due to limitations in Spark (that we may perhaps one day be able to work around) it's not possible to join `datapoints` directly, but we can get the externalIds of the time series we want to look at as a Python list by using `.collect()`.\n",
    "\n",
    "For example, let's say we want to look at data points from the time series with description `PH 1stStgComp Discharge` that are connected to the assets with description `VRD - PH 1STSTGCOMP DISCHARGE` that we found above. First we get the externalIds of those time series into a Python list."
   ]
  },
  {
   "cell_type": "code",
   "execution_count": null,
   "metadata": {},
   "outputs": [],
   "source": [
    "discharge_time_series = assets.where(assets.description == \"VRD - PH 1STSTGCOMP DISCHARGE\") \\\n",
    "  .join(tsmd, tsmd.assetId == assets.id) \\\n",
    "  .select(tsmd.externalId.alias(\"tsName\"))\n",
    "discharge_time_series_names = [ t.tsName for t in discharge_time_series.collect() ]\n",
    "discharge_time_series_names"
   ]
  },
  {
   "cell_type": "markdown",
   "metadata": {},
   "source": [
    "Then we can use `.where(dp.name.isin(discharge_time_series_names))` to do the join we wanted."
   ]
  },
  {
   "cell_type": "code",
   "execution_count": null,
   "metadata": {},
   "outputs": [],
   "source": [
    "display(dp.where(dp.externalId.isin(discharge_time_series_names)) \\\n",
    "        .where(dp.timestamp > F.lit(\"2017-10-01\")) \\\n",
    "        .where(dp.aggregation == 'min') \\\n",
    "        .where(dp.granularity == \"7d\"))"
   ]
  },
  {
   "cell_type": "markdown",
   "metadata": {},
   "source": [
    "# Files metadata\n",
    "\n",
    "We also have support for files metadata. Currently we support reading and updating existing files metadata."
   ]
  },
  {
   "cell_type": "code",
   "execution_count": null,
   "metadata": {},
   "outputs": [],
   "source": [
    "files = spark.read.format(\"cognite.spark.v1\") \\\n",
    "  .option(\"type\", \"files\") \\\n",
    "  .option(\"apiKey\", dbutils.secrets.get(secret_scope, project_key)) \\\n",
    "  .load() \\\n",
    "  .cache()"
   ]
  },
  {
   "cell_type": "code",
   "execution_count": null,
   "metadata": {},
   "outputs": [],
   "source": [
    "files.printSchema()"
   ]
  },
  {
   "cell_type": "code",
   "execution_count": null,
   "metadata": {},
   "outputs": [],
   "source": [
    "display(files.groupBy(files.mimeType) \\\n",
    "        .count() \\\n",
    "        .orderBy(\"count\", ascending=False))"
   ]
  }
 ],
 "metadata": {
  "kernelspec": {
   "display_name": "Python 3",
   "language": "python",
   "name": "python3"
  },
  "language_info": {
   "codemirror_mode": {
    "name": "ipython",
    "version": 3
   },
   "file_extension": ".py",
   "mimetype": "text/x-python",
   "name": "python",
   "nbconvert_exporter": "python",
   "pygments_lexer": "ipython3",
   "version": "3.7.6"
  },
  "name": "Tutorial",
  "notebookId": 1572025699111510
 },
 "nbformat": 4,
 "nbformat_minor": 1
}
